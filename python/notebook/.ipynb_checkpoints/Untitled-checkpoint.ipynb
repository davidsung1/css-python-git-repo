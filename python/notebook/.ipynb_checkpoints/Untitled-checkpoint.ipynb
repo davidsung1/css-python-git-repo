{
 "cells": [
  {
   "cell_type": "code",
   "execution_count": 1,
   "metadata": {
    "collapsed": true
   },
   "outputs": [],
   "source": [
    "from functools import reduce\n",
    "import math\n",
    "import pickle\n",
    "\n",
    "def average(scores): # score = [95, 23, 46, 25]\n",
    "    return reduce(lambda a, b: a + b, scores) / len(scores)\n",
    "    \n",
    "def variance(scores, avrg): # scores [95. 23. 25. 62] avrg : 50\n",
    "    return reduce(lambda a, b: a + b, map(lambda s: (s-avrg)**2, scores))/len(scores) # sum(( each score - avrg)**2 )/ num of data\n",
    "\n"
   ]
  },
  {
   "cell_type": "code",
   "execution_count": null,
   "metadata": {
    "collapsed": true
   },
   "outputs": [],
   "source": []
  }
 ],
 "metadata": {
  "kernelspec": {
   "display_name": "Python 3",
   "language": "python",
   "name": "python3"
  },
  "language_info": {
   "codemirror_mode": {
    "name": "ipython",
    "version": 3
   },
   "file_extension": ".py",
   "mimetype": "text/x-python",
   "name": "python",
   "nbconvert_exporter": "python",
   "pygments_lexer": "ipython3",
   "version": "3.6.0"
  }
 },
 "nbformat": 4,
 "nbformat_minor": 2
}
